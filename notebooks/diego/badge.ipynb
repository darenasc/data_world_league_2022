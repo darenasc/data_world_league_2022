{
 "cells": [
  {
   "cell_type": "code",
   "execution_count": 124,
   "metadata": {},
   "outputs": [],
   "source": [
    "import time\n",
    "\n",
    "from geopy.geocoders import Nominatim\n",
    "import matplotlib.pyplot as plt\n",
    "from mlxtend.plotting import plot_decision_regions\n",
    "from sklearn import neighbors\n",
    "import pandas as pd\n",
    "from pyproj import Transformer"
   ]
  },
  {
   "cell_type": "code",
   "execution_count": 125,
   "metadata": {},
   "outputs": [],
   "source": [
    "geolocator = Nominatim(user_agent=\"DWL Project\")"
   ]
  },
  {
   "cell_type": "code",
   "execution_count": 126,
   "metadata": {},
   "outputs": [
    {
     "name": "stdout",
     "output_type": "stream",
     "text": [
      "Kaiserslautern, Rheinland-Pfalz, Deutschland\n",
      "Amsterdam, Noord-Holland, Nederland\n",
      "London, Greater London, England, SW1A 2DX, United Kingdom\n",
      "Exeter, Devon, South West England, England, EX1 1GB, United Kingdom\n",
      "Barcelona, Barcelonès, Barcelona, Catalunya, 08001, España\n"
     ]
    }
   ],
   "source": [
    "locations = ['Kaiserslautern, Germany',\n",
    "             'Amsterdam, Netherlands',\n",
    "             'London, United Kingdom',\n",
    "             'Exeter, United Kingdom',\n",
    "             'Barcelona, Spain',\n",
    "            ]\n",
    "\n",
    "coordinates = []\n",
    "for loc in locations:\n",
    "    location = geolocator.geocode(loc)\n",
    "    print(location.address)\n",
    "    coordinates.append((location.address, location.latitude, location.longitude))\n",
    "    time.sleep(2)"
   ]
  },
  {
   "cell_type": "code",
   "execution_count": 127,
   "metadata": {},
   "outputs": [
    {
     "data": {
      "text/html": [
       "<div>\n",
       "<style scoped>\n",
       "    .dataframe tbody tr th:only-of-type {\n",
       "        vertical-align: middle;\n",
       "    }\n",
       "\n",
       "    .dataframe tbody tr th {\n",
       "        vertical-align: top;\n",
       "    }\n",
       "\n",
       "    .dataframe thead th {\n",
       "        text-align: right;\n",
       "    }\n",
       "</style>\n",
       "<table border=\"1\" class=\"dataframe\">\n",
       "  <thead>\n",
       "    <tr style=\"text-align: right;\">\n",
       "      <th></th>\n",
       "      <th>address</th>\n",
       "      <th>lat</th>\n",
       "      <th>lon</th>\n",
       "      <th>target</th>\n",
       "    </tr>\n",
       "  </thead>\n",
       "  <tbody>\n",
       "    <tr>\n",
       "      <th>0</th>\n",
       "      <td>Kaiserslautern, Rheinland-Pfalz, Deutschland</td>\n",
       "      <td>49.443217</td>\n",
       "      <td>7.768995</td>\n",
       "      <td>0</td>\n",
       "    </tr>\n",
       "    <tr>\n",
       "      <th>1</th>\n",
       "      <td>Amsterdam, Noord-Holland, Nederland</td>\n",
       "      <td>52.372760</td>\n",
       "      <td>4.893604</td>\n",
       "      <td>1</td>\n",
       "    </tr>\n",
       "    <tr>\n",
       "      <th>2</th>\n",
       "      <td>London, Greater London, England, SW1A 2DX, Uni...</td>\n",
       "      <td>51.507322</td>\n",
       "      <td>-0.127647</td>\n",
       "      <td>2</td>\n",
       "    </tr>\n",
       "    <tr>\n",
       "      <th>3</th>\n",
       "      <td>Exeter, Devon, South West England, England, EX...</td>\n",
       "      <td>50.725579</td>\n",
       "      <td>-3.526950</td>\n",
       "      <td>3</td>\n",
       "    </tr>\n",
       "    <tr>\n",
       "      <th>4</th>\n",
       "      <td>Barcelona, Barcelonès, Barcelona, Catalunya, 0...</td>\n",
       "      <td>41.382894</td>\n",
       "      <td>2.177432</td>\n",
       "      <td>4</td>\n",
       "    </tr>\n",
       "  </tbody>\n",
       "</table>\n",
       "</div>"
      ],
      "text/plain": [
       "                                             address        lat       lon  \\\n",
       "0       Kaiserslautern, Rheinland-Pfalz, Deutschland  49.443217  7.768995   \n",
       "1                Amsterdam, Noord-Holland, Nederland  52.372760  4.893604   \n",
       "2  London, Greater London, England, SW1A 2DX, Uni...  51.507322 -0.127647   \n",
       "3  Exeter, Devon, South West England, England, EX...  50.725579 -3.526950   \n",
       "4  Barcelona, Barcelonès, Barcelona, Catalunya, 0...  41.382894  2.177432   \n",
       "\n",
       "  target  \n",
       "0      0  \n",
       "1      1  \n",
       "2      2  \n",
       "3      3  \n",
       "4      4  "
      ]
     },
     "execution_count": 127,
     "metadata": {},
     "output_type": "execute_result"
    }
   ],
   "source": [
    "df = pd.DataFrame(coordinates, columns=['address', 'lat', 'lon'])\n",
    "df['target'] = None\n",
    "for i in range(len(df)):\n",
    "    df.loc[i, 'target'] = i\n",
    "df"
   ]
  },
  {
   "cell_type": "code",
   "execution_count": 128,
   "metadata": {},
   "outputs": [
    {
     "data": {
      "image/png": "[encoded data removed]",
      "text/plain": [
       "<Figure size 432x288 with 1 Axes>"
      ]
     },
     "metadata": {
      "needs_background": "light"
     },
     "output_type": "display_data"
    }
   ],
   "source": [
    "plt.scatter(x=df['lon'], y=df['lat'])\n",
    "plt.show()"
   ]
  },
  {
   "cell_type": "code",
   "execution_count": 129,
   "metadata": {},
   "outputs": [],
   "source": [
    "def transform_crs(lat, lon, from_crs = 'epsg:4326', to_crs = 'epsg:3857'):\n",
    "    transformer = Transformer.from_crs(from_crs, to_crs)\n",
    "    x_new, y_new = transformer.transform(lat, lon)\n",
    "    return x_new, y_new"
   ]
  },
  {
   "cell_type": "code",
   "execution_count": 130,
   "metadata": {},
   "outputs": [],
   "source": [
    "df['x'] = None\n",
    "df['y'] = None\n",
    "for loc in df.iterrows():\n",
    "    x_new, y_new = transform_crs(loc[1]['lat'], loc[1]['lon'])\n",
    "    df.loc[loc[0], 'x'] = x_new\n",
    "    df.loc[loc[0], 'y'] = y_new"
   ]
  },
  {
   "cell_type": "code",
   "execution_count": 131,
   "metadata": {},
   "outputs": [
    {
     "name": "stderr",
     "output_type": "stream",
     "text": [
      "/Users/darenasc/.local/share/virtualenvs/data_world_league_2022-o40nAfHA/lib/python3.8/site-packages/mlxtend/plotting/decision_regions.py:274: UserWarning: You passed a edgecolor/edgecolors ('black') for an unfilled marker ('x').  Matplotlib is ignoring the edgecolor in favor of the facecolor.  This behavior may change in the future.\n",
      "  ax.scatter(x=x_data,\n"
     ]
    },
    {
     "data": {
      "image/png": "[encoded data removed]",
      "text/plain": [
       "<Figure size 432x288 with 1 Axes>"
      ]
     },
     "metadata": {
      "needs_background": "light"
     },
     "output_type": "display_data"
    }
   ],
   "source": [
    "x = df[['lon', 'lat']].values.astype(float)\n",
    "y = df['target'].astype(int).values\n",
    "clf = neighbors.KNeighborsClassifier(n_neighbors=1)\n",
    "clf.fit(x, y)\n",
    "plot_decision_regions(x, y, clf=clf, legend=0)\n",
    "plt.xlabel('Longitude')\n",
    "plt.ylabel('Latitude')\n",
    "plt.show()"
   ]
  },
  {
   "cell_type": "code",
   "execution_count": 132,
   "metadata": {},
   "outputs": [
    {
     "data": {
      "image/png": "[encoded data removed]",
      "text/plain": [
       "<Figure size 432x288 with 1 Axes>"
      ]
     },
     "metadata": {},
     "output_type": "display_data"
    }
   ],
   "source": [
    "with plt.xkcd():\n",
    "    # Based on \"Stove Ownership\" from XKCD by Randall Munroe\n",
    "    # https://xkcd.com/418/\n",
    "\n",
    "    fig = plt.figure()\n",
    "\n",
    "    x = df[['lon', 'lat']].values.astype(float)\n",
    "    y = df['target'].astype(int).values\n",
    "    scatter_kwargs = {'s': 200, 'edgecolor': None, 'alpha': 0.7}\n",
    "    plot_decision_regions(x, y, clf=clf, scatter_kwargs=scatter_kwargs, legend=0)\n",
    "    plt.xlabel('Longitude')\n",
    "    plt.ylabel('Latitude')\n",
    "    # plt.annotate('Teammate0', (x[0][0], x[0][1]), arrowprops=dict(arrowstyle='->'), xytext=(x[0][0]-2, x[0][1]-2))\n",
    "    # plt.annotate('Teammate1', (x[1][0], x[1][1]), arrowprops=dict(arrowstyle='->'), xytext=(x[1][0]-2, x[1][1]-2))\n",
    "    # plt.annotate('Teammate2', (x[2][0], x[2][1]), arrowprops=dict(arrowstyle='->'), xytext=(x[2][0], x[2][1]-2.5))\n",
    "    # plt.annotate('Teammate3', (x[3][0], x[3][1]), arrowprops=dict(arrowstyle='->'), xytext=(x[3][0], x[3][1]-2.5))\n",
    "    # plt.annotate('Teammate4', (x[4][0], x[4][1]), arrowprops=dict(arrowstyle='->'), xytext=(x[4][0], x[4][1]+2))\n",
    "    fig.text(\n",
    "        0.5, 0.95,\n",
    "        'K Nearest Teammates',\n",
    "        ha='center')"
   ]
  },
  {
   "cell_type": "code",
   "execution_count": null,
   "metadata": {},
   "outputs": [],
   "source": []
  }
 ],
 "metadata": {
  "interpreter": {
   "hash": "ffbb72218c861bebe7b13c3c4f90bcc34d46ba4c8fb31fc5c144301c604712e1"
  },
  "kernelspec": {
   "display_name": "Python 3.8.3 ('data_world_league_2022-o40nAfHA')",
   "language": "python",
   "name": "python3"
  },
  "language_info": {
   "codemirror_mode": {
    "name": "ipython",
    "version": 3
   },
   "file_extension": ".py",
   "mimetype": "text/x-python",
   "name": "python",
   "nbconvert_exporter": "python",
   "pygments_lexer": "ipython3",
   "version": "3.8.3"
  },
  "orig_nbformat": 4
 },
 "nbformat": 4,
 "nbformat_minor": 2
}
