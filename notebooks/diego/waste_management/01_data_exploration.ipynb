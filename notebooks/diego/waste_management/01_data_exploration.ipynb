{
 "cells": [
  {
   "cell_type": "code",
   "execution_count": 2,
   "metadata": {},
   "outputs": [],
   "source": [
    "import pandas as pd\n",
    "from pathlib import Path"
   ]
  },
  {
   "cell_type": "code",
   "execution_count": 3,
   "metadata": {},
   "outputs": [],
   "source": [
    "data = pd.read_csv(\"data/Waste_Collection___Diversion_Report__daily_.csv\")"
   ]
  },
  {
   "cell_type": "code",
   "execution_count": 4,
   "metadata": {},
   "outputs": [
    {
     "data": {
      "text/html": [
       "<div>\n",
       "<style scoped>\n",
       "    .dataframe tbody tr th:only-of-type {\n",
       "        vertical-align: middle;\n",
       "    }\n",
       "\n",
       "    .dataframe tbody tr th {\n",
       "        vertical-align: top;\n",
       "    }\n",
       "\n",
       "    .dataframe thead th {\n",
       "        text-align: right;\n",
       "    }\n",
       "</style>\n",
       "<table border=\"1\" class=\"dataframe\">\n",
       "  <thead>\n",
       "    <tr style=\"text-align: right;\">\n",
       "      <th></th>\n",
       "      <th>Report Date</th>\n",
       "      <th>Load Type</th>\n",
       "      <th>Load Time</th>\n",
       "      <th>Load Weight</th>\n",
       "      <th>Dropoff Site</th>\n",
       "      <th>Route Type</th>\n",
       "      <th>Route Number</th>\n",
       "      <th>Load ID</th>\n",
       "    </tr>\n",
       "  </thead>\n",
       "  <tbody>\n",
       "    <tr>\n",
       "      <th>0</th>\n",
       "      <td>12/08/2020</td>\n",
       "      <td>BULK</td>\n",
       "      <td>12/08/2020 03:02:00 PM</td>\n",
       "      <td>5,220</td>\n",
       "      <td>TDS LANDFILL</td>\n",
       "      <td>BULK</td>\n",
       "      <td>BU13</td>\n",
       "      <td>899097</td>\n",
       "    </tr>\n",
       "    <tr>\n",
       "      <th>1</th>\n",
       "      <td>12/08/2020</td>\n",
       "      <td>RECYCLING - SINGLE STREAM</td>\n",
       "      <td>12/08/2020 10:00:00 AM</td>\n",
       "      <td>11,140</td>\n",
       "      <td>TDS - MRF</td>\n",
       "      <td>RECYCLING - SINGLE STREAM</td>\n",
       "      <td>RTAU53</td>\n",
       "      <td>899078</td>\n",
       "    </tr>\n",
       "    <tr>\n",
       "      <th>2</th>\n",
       "      <td>12/03/2020</td>\n",
       "      <td>RECYCLING - SINGLE STREAM</td>\n",
       "      <td>12/03/2020 10:34:00 AM</td>\n",
       "      <td>10,060</td>\n",
       "      <td>BALCONES RECYCLING</td>\n",
       "      <td>RECYCLING - SINGLE STREAM</td>\n",
       "      <td>RHBU10</td>\n",
       "      <td>899082</td>\n",
       "    </tr>\n",
       "    <tr>\n",
       "      <th>3</th>\n",
       "      <td>12/07/2020</td>\n",
       "      <td>SWEEPING</td>\n",
       "      <td>12/07/2020 10:15:00 AM</td>\n",
       "      <td>7,100</td>\n",
       "      <td>TDS LANDFILL</td>\n",
       "      <td>SWEEPER DUMPSITES</td>\n",
       "      <td>DSS04</td>\n",
       "      <td>899030</td>\n",
       "    </tr>\n",
       "    <tr>\n",
       "      <th>4</th>\n",
       "      <td>12/07/2020</td>\n",
       "      <td>RECYCLING - SINGLE STREAM</td>\n",
       "      <td>12/07/2020 04:00:00 PM</td>\n",
       "      <td>12,000</td>\n",
       "      <td>TDS - MRF</td>\n",
       "      <td>RECYCLING - SINGLE STREAM</td>\n",
       "      <td>RMAU53</td>\n",
       "      <td>899048</td>\n",
       "    </tr>\n",
       "  </tbody>\n",
       "</table>\n",
       "</div>"
      ],
      "text/plain": [
       "  Report Date                  Load Type               Load Time Load Weight  \\\n",
       "0  12/08/2020                       BULK  12/08/2020 03:02:00 PM       5,220   \n",
       "1  12/08/2020  RECYCLING - SINGLE STREAM  12/08/2020 10:00:00 AM      11,140   \n",
       "2  12/03/2020  RECYCLING - SINGLE STREAM  12/03/2020 10:34:00 AM      10,060   \n",
       "3  12/07/2020                   SWEEPING  12/07/2020 10:15:00 AM       7,100   \n",
       "4  12/07/2020  RECYCLING - SINGLE STREAM  12/07/2020 04:00:00 PM      12,000   \n",
       "\n",
       "         Dropoff Site                 Route Type Route Number  Load ID  \n",
       "0        TDS LANDFILL                       BULK         BU13   899097  \n",
       "1           TDS - MRF  RECYCLING - SINGLE STREAM       RTAU53   899078  \n",
       "2  BALCONES RECYCLING  RECYCLING - SINGLE STREAM       RHBU10   899082  \n",
       "3        TDS LANDFILL          SWEEPER DUMPSITES        DSS04   899030  \n",
       "4           TDS - MRF  RECYCLING - SINGLE STREAM       RMAU53   899048  "
      ]
     },
     "execution_count": 4,
     "metadata": {},
     "output_type": "execute_result"
    }
   ],
   "source": [
    "data.head()"
   ]
  }
 ],
 "metadata": {
  "interpreter": {
   "hash": "ffbb72218c861bebe7b13c3c4f90bcc34d46ba4c8fb31fc5c144301c604712e1"
  },
  "kernelspec": {
   "display_name": "Python 3.8.3 ('data_world_league_2022-o40nAfHA')",
   "language": "python",
   "name": "python3"
  },
  "language_info": {
   "codemirror_mode": {
    "name": "ipython",
    "version": 3
   },
   "file_extension": ".py",
   "mimetype": "text/x-python",
   "name": "python",
   "nbconvert_exporter": "python",
   "pygments_lexer": "ipython3",
   "version": "3.8.3"
  },
  "orig_nbformat": 4
 },
 "nbformat": 4,
 "nbformat_minor": 2
}
