{
 "cells": [
  {
   "cell_type": "code",
   "execution_count": null,
   "metadata": {},
   "outputs": [],
   "source": [
    "from datetime import datetime\n",
    "from pathlib import Path\n",
    "\n",
    "import pandas as pd\n",
    "from prophet import Prophet"
   ]
  },
  {
   "cell_type": "code",
   "execution_count": null,
   "metadata": {},
   "outputs": [],
   "source": [
    "input_data = Path(\"data/\")"
   ]
  },
  {
   "cell_type": "code",
   "execution_count": null,
   "metadata": {},
   "outputs": [],
   "source": [
    "data = pd.read_csv(\"data/Waste_Collection___Diversion_Report__daily_.csv\")\n",
    "data['Report Date'] = data['Report Date'].apply(lambda x: datetime.strptime(x, '%m/%d/%Y'))\n",
    "data['Load Time'] = data['Load Time'].apply(lambda x: datetime.strptime(x, '%m/%d/%Y %I:%M:%S %p'))\n",
    "data['Load Weight'] = data['Load Weight'].apply(lambda x: float(str(x).replace(',', '')))"
   ]
  },
  {
   "cell_type": "code",
   "execution_count": null,
   "metadata": {},
   "outputs": [],
   "source": [
    "data.head()"
   ]
  },
  {
   "cell_type": "code",
   "execution_count": null,
   "metadata": {},
   "outputs": [],
   "source": [
    "data[[\"Report Date\", \"Load Weight\", \"Load Type\", \"Route Number\"]].head()"
   ]
  },
  {
   "cell_type": "code",
   "execution_count": null,
   "metadata": {},
   "outputs": [],
   "source": [
    "data['Route Number'].value_counts()"
   ]
  },
  {
   "cell_type": "code",
   "execution_count": null,
   "metadata": {},
   "outputs": [],
   "source": [
    "data[data[\"Route Number\"] == \"BU13\"][[\"Report Date\", \"Load Weight\", \"Load Type\", \"Route Number\"]].head()"
   ]
  },
  {
   "cell_type": "code",
   "execution_count": null,
   "metadata": {},
   "outputs": [],
   "source": [
    "# data.groupby('Report Date')['Load Weight'].sum().plot()\n",
    "df = data.groupby('Report Date')['Load Weight'].sum().reset_index()\n",
    "df.columns = ['ds', 'y']\n",
    "df.head()"
   ]
  },
  {
   "cell_type": "code",
   "execution_count": null,
   "metadata": {},
   "outputs": [],
   "source": [
    "m = Prophet()\n",
    "m.fit(df);\n",
    "future = m.make_future_dataframe(periods=365);"
   ]
  },
  {
   "cell_type": "code",
   "execution_count": null,
   "metadata": {},
   "outputs": [],
   "source": [
    "forecast = m.predict(future)\n",
    "forecast[['ds', 'yhat', 'yhat_lower', 'yhat_upper']].tail();"
   ]
  },
  {
   "cell_type": "code",
   "execution_count": null,
   "metadata": {},
   "outputs": [],
   "source": [
    "fig1 = m.plot(forecast)"
   ]
  },
  {
   "cell_type": "code",
   "execution_count": null,
   "metadata": {},
   "outputs": [],
   "source": [
    "fig2 = m.plot_components(forecast)"
   ]
  },
  {
   "cell_type": "code",
   "execution_count": null,
   "metadata": {},
   "outputs": [],
   "source": [
    "data[data['Load Type'] == \"GARBAGE COLLECTIONS\"].groupby('Report Date')['Load Weight'].sum().plot();"
   ]
  },
  {
   "cell_type": "code",
   "execution_count": null,
   "metadata": {},
   "outputs": [],
   "source": [
    "data[data['Load Type'] == \"RECYCLING - SINGLE STREAM\"].groupby('Report Date')['Load Weight'].sum().plot();"
   ]
  },
  {
   "cell_type": "code",
   "execution_count": null,
   "metadata": {},
   "outputs": [],
   "source": [
    "data[data['Load Type'] == \"SWEEPING\"].groupby('Report Date')['Load Weight'].sum().plot();"
   ]
  },
  {
   "cell_type": "code",
   "execution_count": null,
   "metadata": {},
   "outputs": [],
   "source": [
    "data.groupby('Report Date')['Load Weight'].sum().plot()"
   ]
  },
  {
   "cell_type": "code",
   "execution_count": null,
   "metadata": {},
   "outputs": [],
   "source": [
    "# Adding regressors\n",
    "clean_df = pd.read_csv(input_data / \"clean_waste_data.csv\")\n",
    "clean_df['date'] = clean_df['date'].apply(lambda x: datetime.strptime(x, '%Y-%m-%d'))\n",
    "# clean_df['Route.Type'].value_counts()\n",
    "# clean_df.head()\n",
    "\n",
    "# GARBAGE COLLECTION              201068\n",
    "# RECYCLING - SINGLE STREAM        77246\n",
    "# YARD TRIMMINGS                   45878\n",
    "# BULK                              7898\n",
    "# YARD TRIMMINGS-ORGANICS           6887\n",
    "\n",
    "df = clean_df[clean_df['Route.Type'] == \"GARBAGE COLLECTION\"][['date', 'daily_weight']]\n",
    "df = df.groupby('date')['daily_weight'].sum().reset_index()\n",
    "df.columns = ['ds', 'y']\n",
    "df.head()"
   ]
  },
  {
   "cell_type": "code",
   "execution_count": null,
   "metadata": {},
   "outputs": [],
   "source": [
    "m = Prophet()\n",
    "m.fit(df);\n",
    "future = m.make_future_dataframe(periods=365);"
   ]
  },
  {
   "cell_type": "code",
   "execution_count": null,
   "metadata": {},
   "outputs": [],
   "source": [
    "forecast = m.predict(future)\n",
    "forecast[['ds', 'yhat', 'yhat_lower', 'yhat_upper']].tail();"
   ]
  },
  {
   "cell_type": "code",
   "execution_count": null,
   "metadata": {},
   "outputs": [],
   "source": [
    "fig1 = m.plot(forecast)"
   ]
  },
  {
   "cell_type": "code",
   "execution_count": null,
   "metadata": {},
   "outputs": [],
   "source": [
    "df.dtypes"
   ]
  }
 ],
 "metadata": {
  "interpreter": {
   "hash": "ffbb72218c861bebe7b13c3c4f90bcc34d46ba4c8fb31fc5c144301c604712e1"
  },
  "kernelspec": {
   "display_name": "Python 3.8.3 ('data_world_league_2022-o40nAfHA')",
   "language": "python",
   "name": "python3"
  },
  "language_info": {
   "codemirror_mode": {
    "name": "ipython",
    "version": 3
   },
   "file_extension": ".py",
   "mimetype": "text/x-python",
   "name": "python",
   "nbconvert_exporter": "python",
   "pygments_lexer": "ipython3",
   "version": "3.8.3"
  },
  "orig_nbformat": 4
 },
 "nbformat": 4,
 "nbformat_minor": 2
}
