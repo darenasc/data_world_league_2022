{
 "cells": [
  {
   "cell_type": "code",
   "execution_count": 1,
   "metadata": {},
   "outputs": [
    {
     "name": "stderr",
     "output_type": "stream",
     "text": [
      "Importing plotly failed. Interactive plots will not work.\n"
     ]
    }
   ],
   "source": [
    "from datetime import datetime\n",
    "from pathlib import Path\n",
    "\n",
    "import pandas as pd\n",
    "from prophet import Prophet"
   ]
  },
  {
   "cell_type": "code",
   "execution_count": 2,
   "metadata": {},
   "outputs": [],
   "source": [
    "import sys  \n",
    "sys.path.insert(0, 'data')"
   ]
  },
  {
   "cell_type": "code",
   "execution_count": 4,
   "metadata": {},
   "outputs": [],
   "source": [
    "input_data = Path(\"data\")\n"
   ]
  },
  {
   "cell_type": "code",
   "execution_count": 6,
   "metadata": {},
   "outputs": [],
   "source": [
    "data = pd.read_csv(\"data/Waste_Collection___Diversion_Report__daily_.csv\")\n",
    "# data = pd.read_csv(input_data / \"clean_waste_data.csv\")\n",
    "data['Report Date'] = data['Report Date'].apply(lambda x: datetime.strptime(x, '%m/%d/%Y'))\n",
    "data['Load Time'] = data['Load Time'].apply(lambda x: datetime.strptime(x, '%m/%d/%Y %I:%M:%S %p'))\n",
    "data['Load Weight'] = data['Load Weight'].apply(lambda x: float(str(x).replace(',', '')))"
   ]
  },
  {
   "cell_type": "code",
   "execution_count": 7,
   "metadata": {},
   "outputs": [
    {
     "data": {
      "text/html": [
       "<div>\n",
       "<style scoped>\n",
       "    .dataframe tbody tr th:only-of-type {\n",
       "        vertical-align: middle;\n",
       "    }\n",
       "\n",
       "    .dataframe tbody tr th {\n",
       "        vertical-align: top;\n",
       "    }\n",
       "\n",
       "    .dataframe thead th {\n",
       "        text-align: right;\n",
       "    }\n",
       "</style>\n",
       "<table border=\"1\" class=\"dataframe\">\n",
       "  <thead>\n",
       "    <tr style=\"text-align: right;\">\n",
       "      <th></th>\n",
       "      <th>Report Date</th>\n",
       "      <th>Load Type</th>\n",
       "      <th>Load Time</th>\n",
       "      <th>Load Weight</th>\n",
       "      <th>Dropoff Site</th>\n",
       "      <th>Route Type</th>\n",
       "      <th>Route Number</th>\n",
       "      <th>Load ID</th>\n",
       "    </tr>\n",
       "  </thead>\n",
       "  <tbody>\n",
       "    <tr>\n",
       "      <th>0</th>\n",
       "      <td>2020-12-08</td>\n",
       "      <td>BULK</td>\n",
       "      <td>2020-12-08 15:02:00</td>\n",
       "      <td>5220.0</td>\n",
       "      <td>TDS LANDFILL</td>\n",
       "      <td>BULK</td>\n",
       "      <td>BU13</td>\n",
       "      <td>899097</td>\n",
       "    </tr>\n",
       "    <tr>\n",
       "      <th>1</th>\n",
       "      <td>2020-12-08</td>\n",
       "      <td>RECYCLING - SINGLE STREAM</td>\n",
       "      <td>2020-12-08 10:00:00</td>\n",
       "      <td>11140.0</td>\n",
       "      <td>TDS - MRF</td>\n",
       "      <td>RECYCLING - SINGLE STREAM</td>\n",
       "      <td>RTAU53</td>\n",
       "      <td>899078</td>\n",
       "    </tr>\n",
       "    <tr>\n",
       "      <th>2</th>\n",
       "      <td>2020-12-03</td>\n",
       "      <td>RECYCLING - SINGLE STREAM</td>\n",
       "      <td>2020-12-03 10:34:00</td>\n",
       "      <td>10060.0</td>\n",
       "      <td>BALCONES RECYCLING</td>\n",
       "      <td>RECYCLING - SINGLE STREAM</td>\n",
       "      <td>RHBU10</td>\n",
       "      <td>899082</td>\n",
       "    </tr>\n",
       "    <tr>\n",
       "      <th>3</th>\n",
       "      <td>2020-12-07</td>\n",
       "      <td>SWEEPING</td>\n",
       "      <td>2020-12-07 10:15:00</td>\n",
       "      <td>7100.0</td>\n",
       "      <td>TDS LANDFILL</td>\n",
       "      <td>SWEEPER DUMPSITES</td>\n",
       "      <td>DSS04</td>\n",
       "      <td>899030</td>\n",
       "    </tr>\n",
       "    <tr>\n",
       "      <th>4</th>\n",
       "      <td>2020-12-07</td>\n",
       "      <td>RECYCLING - SINGLE STREAM</td>\n",
       "      <td>2020-12-07 16:00:00</td>\n",
       "      <td>12000.0</td>\n",
       "      <td>TDS - MRF</td>\n",
       "      <td>RECYCLING - SINGLE STREAM</td>\n",
       "      <td>RMAU53</td>\n",
       "      <td>899048</td>\n",
       "    </tr>\n",
       "  </tbody>\n",
       "</table>\n",
       "</div>"
      ],
      "text/plain": [
       "  Report Date                  Load Type           Load Time  Load Weight  \\\n",
       "0  2020-12-08                       BULK 2020-12-08 15:02:00       5220.0   \n",
       "1  2020-12-08  RECYCLING - SINGLE STREAM 2020-12-08 10:00:00      11140.0   \n",
       "2  2020-12-03  RECYCLING - SINGLE STREAM 2020-12-03 10:34:00      10060.0   \n",
       "3  2020-12-07                   SWEEPING 2020-12-07 10:15:00       7100.0   \n",
       "4  2020-12-07  RECYCLING - SINGLE STREAM 2020-12-07 16:00:00      12000.0   \n",
       "\n",
       "         Dropoff Site                 Route Type Route Number  Load ID  \n",
       "0        TDS LANDFILL                       BULK         BU13   899097  \n",
       "1           TDS - MRF  RECYCLING - SINGLE STREAM       RTAU53   899078  \n",
       "2  BALCONES RECYCLING  RECYCLING - SINGLE STREAM       RHBU10   899082  \n",
       "3        TDS LANDFILL          SWEEPER DUMPSITES        DSS04   899030  \n",
       "4           TDS - MRF  RECYCLING - SINGLE STREAM       RMAU53   899048  "
      ]
     },
     "execution_count": 7,
     "metadata": {},
     "output_type": "execute_result"
    }
   ],
   "source": [
    "data.head()"
   ]
  },
  {
   "cell_type": "code",
   "execution_count": 8,
   "metadata": {},
   "outputs": [
    {
     "data": {
      "text/html": [
       "<div>\n",
       "<style scoped>\n",
       "    .dataframe tbody tr th:only-of-type {\n",
       "        vertical-align: middle;\n",
       "    }\n",
       "\n",
       "    .dataframe tbody tr th {\n",
       "        vertical-align: top;\n",
       "    }\n",
       "\n",
       "    .dataframe thead th {\n",
       "        text-align: right;\n",
       "    }\n",
       "</style>\n",
       "<table border=\"1\" class=\"dataframe\">\n",
       "  <thead>\n",
       "    <tr style=\"text-align: right;\">\n",
       "      <th></th>\n",
       "      <th>Report Date</th>\n",
       "      <th>Load Weight</th>\n",
       "      <th>Load Type</th>\n",
       "      <th>Route Number</th>\n",
       "    </tr>\n",
       "  </thead>\n",
       "  <tbody>\n",
       "    <tr>\n",
       "      <th>0</th>\n",
       "      <td>2020-12-08</td>\n",
       "      <td>5220.0</td>\n",
       "      <td>BULK</td>\n",
       "      <td>BU13</td>\n",
       "    </tr>\n",
       "    <tr>\n",
       "      <th>1</th>\n",
       "      <td>2020-12-08</td>\n",
       "      <td>11140.0</td>\n",
       "      <td>RECYCLING - SINGLE STREAM</td>\n",
       "      <td>RTAU53</td>\n",
       "    </tr>\n",
       "    <tr>\n",
       "      <th>2</th>\n",
       "      <td>2020-12-03</td>\n",
       "      <td>10060.0</td>\n",
       "      <td>RECYCLING - SINGLE STREAM</td>\n",
       "      <td>RHBU10</td>\n",
       "    </tr>\n",
       "    <tr>\n",
       "      <th>3</th>\n",
       "      <td>2020-12-07</td>\n",
       "      <td>7100.0</td>\n",
       "      <td>SWEEPING</td>\n",
       "      <td>DSS04</td>\n",
       "    </tr>\n",
       "    <tr>\n",
       "      <th>4</th>\n",
       "      <td>2020-12-07</td>\n",
       "      <td>12000.0</td>\n",
       "      <td>RECYCLING - SINGLE STREAM</td>\n",
       "      <td>RMAU53</td>\n",
       "    </tr>\n",
       "  </tbody>\n",
       "</table>\n",
       "</div>"
      ],
      "text/plain": [
       "  Report Date  Load Weight                  Load Type Route Number\n",
       "0  2020-12-08       5220.0                       BULK         BU13\n",
       "1  2020-12-08      11140.0  RECYCLING - SINGLE STREAM       RTAU53\n",
       "2  2020-12-03      10060.0  RECYCLING - SINGLE STREAM       RHBU10\n",
       "3  2020-12-07       7100.0                   SWEEPING        DSS04\n",
       "4  2020-12-07      12000.0  RECYCLING - SINGLE STREAM       RMAU53"
      ]
     },
     "execution_count": 8,
     "metadata": {},
     "output_type": "execute_result"
    }
   ],
   "source": [
    "data[[\"Report Date\", \"Load Weight\", \"Load Type\", \"Route Number\"]].head()"
   ]
  },
  {
   "cell_type": "code",
   "execution_count": 9,
   "metadata": {},
   "outputs": [
    {
     "data": {
      "text/plain": [
       "SDT01      11279\n",
       "DSS04       6870\n",
       "DA01        4323\n",
       "BU13        2667\n",
       "DA02        2633\n",
       "           ...  \n",
       "TNONMC         1\n",
       "RWNON38        1\n",
       "SSN18          1\n",
       "PAS87          1\n",
       "HNONEG         1\n",
       "Name: Route Number, Length: 2221, dtype: int64"
      ]
     },
     "execution_count": 9,
     "metadata": {},
     "output_type": "execute_result"
    }
   ],
   "source": [
    "data['Route Number'].value_counts()"
   ]
  },
  {
   "cell_type": "code",
   "execution_count": 10,
   "metadata": {},
   "outputs": [
    {
     "data": {
      "text/html": [
       "<div>\n",
       "<style scoped>\n",
       "    .dataframe tbody tr th:only-of-type {\n",
       "        vertical-align: middle;\n",
       "    }\n",
       "\n",
       "    .dataframe tbody tr th {\n",
       "        vertical-align: top;\n",
       "    }\n",
       "\n",
       "    .dataframe thead th {\n",
       "        text-align: right;\n",
       "    }\n",
       "</style>\n",
       "<table border=\"1\" class=\"dataframe\">\n",
       "  <thead>\n",
       "    <tr style=\"text-align: right;\">\n",
       "      <th></th>\n",
       "      <th>Report Date</th>\n",
       "      <th>Load Weight</th>\n",
       "      <th>Load Type</th>\n",
       "      <th>Route Number</th>\n",
       "    </tr>\n",
       "  </thead>\n",
       "  <tbody>\n",
       "    <tr>\n",
       "      <th>0</th>\n",
       "      <td>2020-12-08</td>\n",
       "      <td>5220.0</td>\n",
       "      <td>BULK</td>\n",
       "      <td>BU13</td>\n",
       "    </tr>\n",
       "    <tr>\n",
       "      <th>6</th>\n",
       "      <td>2020-12-08</td>\n",
       "      <td>7700.0</td>\n",
       "      <td>BULK</td>\n",
       "      <td>BU13</td>\n",
       "    </tr>\n",
       "    <tr>\n",
       "      <th>7</th>\n",
       "      <td>2020-12-08</td>\n",
       "      <td>6520.0</td>\n",
       "      <td>BULK</td>\n",
       "      <td>BU13</td>\n",
       "    </tr>\n",
       "    <tr>\n",
       "      <th>11</th>\n",
       "      <td>2020-12-08</td>\n",
       "      <td>9260.0</td>\n",
       "      <td>BULK</td>\n",
       "      <td>BU13</td>\n",
       "    </tr>\n",
       "    <tr>\n",
       "      <th>57</th>\n",
       "      <td>2020-12-08</td>\n",
       "      <td>10100.0</td>\n",
       "      <td>BULK</td>\n",
       "      <td>BU13</td>\n",
       "    </tr>\n",
       "  </tbody>\n",
       "</table>\n",
       "</div>"
      ],
      "text/plain": [
       "   Report Date  Load Weight Load Type Route Number\n",
       "0   2020-12-08       5220.0      BULK         BU13\n",
       "6   2020-12-08       7700.0      BULK         BU13\n",
       "7   2020-12-08       6520.0      BULK         BU13\n",
       "11  2020-12-08       9260.0      BULK         BU13\n",
       "57  2020-12-08      10100.0      BULK         BU13"
      ]
     },
     "execution_count": 10,
     "metadata": {},
     "output_type": "execute_result"
    }
   ],
   "source": [
    "data[data[\"Route Number\"] == \"BU13\"][[\"Report Date\", \"Load Weight\", \"Load Type\", \"Route Number\"]].head()"
   ]
  },
  {
   "cell_type": "code",
   "execution_count": null,
   "metadata": {},
   "outputs": [],
   "source": [
    "# data.groupby('Report Date')['Load Weight'].sum().plot()\n",
    "df = data.groupby('Report Date')['Load Weight'].sum().reset_index()\n",
    "df.columns = ['ds', 'y']\n",
    "df.head()"
   ]
  },
  {
   "cell_type": "code",
   "execution_count": null,
   "metadata": {},
   "outputs": [],
   "source": [
    "m = Prophet()\n",
    "m.fit(df);\n",
    "future = m.make_future_dataframe(periods=365);"
   ]
  },
  {
   "cell_type": "code",
   "execution_count": null,
   "metadata": {},
   "outputs": [],
   "source": [
    "forecast = m.predict(future)\n",
    "forecast[['ds', 'yhat', 'yhat_lower', 'yhat_upper']].tail();"
   ]
  },
  {
   "cell_type": "code",
   "execution_count": null,
   "metadata": {},
   "outputs": [],
   "source": [
    "fig1 = m.plot(forecast)"
   ]
  },
  {
   "cell_type": "code",
   "execution_count": null,
   "metadata": {},
   "outputs": [],
   "source": [
    "fig2 = m.plot_components(forecast)"
   ]
  },
  {
   "cell_type": "code",
   "execution_count": null,
   "metadata": {},
   "outputs": [],
   "source": [
    "data[data['Load Type'] == \"GARBAGE COLLECTIONS\"].groupby('Report Date')['Load Weight'].sum().plot();"
   ]
  },
  {
   "cell_type": "code",
   "execution_count": null,
   "metadata": {},
   "outputs": [],
   "source": [
    "data[data['Load Type'] == \"RECYCLING - SINGLE STREAM\"].groupby('Report Date')['Load Weight'].sum().plot();"
   ]
  },
  {
   "cell_type": "code",
   "execution_count": null,
   "metadata": {},
   "outputs": [],
   "source": [
    "data[data['Load Type'] == \"SWEEPING\"].groupby('Report Date')['Load Weight'].sum().plot();"
   ]
  },
  {
   "cell_type": "code",
   "execution_count": null,
   "metadata": {},
   "outputs": [],
   "source": [
    "data.groupby('Report Date')['Load Weight'].sum().plot()"
   ]
  },
  {
   "cell_type": "code",
   "execution_count": null,
   "metadata": {},
   "outputs": [],
   "source": [
    "# Adding regressors\n",
    "clean_df = pd.read_csv(input_data / \"clean_waste_data.csv\")\n",
    "clean_df['date'] = clean_df['date'].apply(lambda x: datetime.strptime(x, '%Y-%m-%d'))\n",
    "# clean_df['Route.Type'].value_counts()\n",
    "# clean_df.head()\n",
    "\n",
    "# GARBAGE COLLECTION              201068\n",
    "# RECYCLING - SINGLE STREAM        77246\n",
    "# YARD TRIMMINGS                   45878\n",
    "# BULK                              7898\n",
    "# YARD TRIMMINGS-ORGANICS           6887\n",
    "\n",
    "df = clean_df[clean_df['Route.Type'] == \"GARBAGE COLLECTION\"][['date', 'daily_weight']]\n",
    "df = df.groupby('date')['daily_weight'].sum().reset_index()\n",
    "df.columns = ['ds', 'y']\n",
    "df.head()"
   ]
  },
  {
   "cell_type": "code",
   "execution_count": null,
   "metadata": {},
   "outputs": [],
   "source": [
    "m = Prophet()\n",
    "m.fit(df);\n",
    "future = m.make_future_dataframe(periods=365);"
   ]
  },
  {
   "cell_type": "code",
   "execution_count": null,
   "metadata": {},
   "outputs": [],
   "source": [
    "forecast = m.predict(future)\n",
    "forecast[['ds', 'yhat', 'yhat_lower', 'yhat_upper']].tail();"
   ]
  },
  {
   "cell_type": "code",
   "execution_count": null,
   "metadata": {},
   "outputs": [],
   "source": [
    "fig1 = m.plot(forecast)"
   ]
  },
  {
   "cell_type": "code",
   "execution_count": null,
   "metadata": {},
   "outputs": [],
   "source": [
    "df.dtypes"
   ]
  }
 ],
 "metadata": {
  "interpreter": {
   "hash": "ffbb72218c861bebe7b13c3c4f90bcc34d46ba4c8fb31fc5c144301c604712e1"
  },
  "kernelspec": {
   "display_name": "Python 3.8.3 ('data_world_league_2022-o40nAfHA')",
   "language": "python",
   "name": "python3"
  },
  "language_info": {
   "codemirror_mode": {
    "name": "ipython",
    "version": 3
   },
   "file_extension": ".py",
   "mimetype": "text/x-python",
   "name": "python",
   "nbconvert_exporter": "python",
   "pygments_lexer": "ipython3",
   "version": "3.8.3"
  },
  "orig_nbformat": 4
 },
 "nbformat": 4,
 "nbformat_minor": 2
}
